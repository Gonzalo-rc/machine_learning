{
 "cells": [
  {
   "cell_type": "markdown",
   "metadata": {},
   "source": [
    "# Descenso de Gradiente\n",
    "\n",
    "Gonzalo Rodríguez Cañada\n",
    "\n",
    "**Caso Práctico:**\n",
    "\n",
    "Suponga que usted es un administrador de una universidad y quiere saber la posibilidad de admisión de cada solicitante en base a sus dos exámenes. Tienes datos históricos de candidatos anteriores que pueden ser usados como datos de entrenamiento para la regresión logística. La tarea es construir un modelo de clasificación que estime la probabilidad de admisión de cada solicitante en la universidad (Fuente:coursera machine learning class y Gondaliya (2013)).\n",
    "\n",
    "Ahora, hemos comprendido el problema de clasificación que vamos a abordar. Entendamos los datos. En los datos tenemos los registros de la puntuación de los dos exámenes de los solicitantes anteriores y etiquetar si el solicitante obtuvo la admisión o no (1 - si obtuvo la admisión 0 - de lo contrario).\n",
    "\n",
    "**Objetivo:**\n",
    "\n",
    "\n",
    "**Fundamento teórico:**\n",
    "\n",
    "El descenso de gradiente es un algoritmo de optimización utilizado para minimizar alguna función al moverse iterativamente en la dirección del descenso más pronunciado, definido por el negativo del gradiente. En el aprendizaje automático, utilizamos el descenso de gradiente para actualizar los parámetros de nuestro modelo. Los parámetros se refieren a los coeficientes en la Regresión Lineal y a los pesos en las redes neuronales.\n",
    "\n",
    "\n",
    "\n",
    "\n"
   ]
  },
  {
   "cell_type": "code",
   "execution_count": 1,
   "metadata": {},
   "outputs": [],
   "source": [
    "import numpy as np\n",
    "import matplotlib.pyplot as plt\n",
    "import seaborn as sns\n",
    "import pandas as pd\n",
    "\n",
    "%matplotlib inline"
   ]
  },
  {
   "cell_type": "markdown",
   "metadata": {},
   "source": [
    "Introducimos los datos"
   ]
  },
  {
   "cell_type": "code",
   "execution_count": 2,
   "metadata": {
    "scrolled": true
   },
   "outputs": [
    {
     "data": {
      "text/html": [
       "<div>\n",
       "<style scoped>\n",
       "    .dataframe tbody tr th:only-of-type {\n",
       "        vertical-align: middle;\n",
       "    }\n",
       "\n",
       "    .dataframe tbody tr th {\n",
       "        vertical-align: top;\n",
       "    }\n",
       "\n",
       "    .dataframe thead th {\n",
       "        text-align: right;\n",
       "    }\n",
       "</style>\n",
       "<table border=\"1\" class=\"dataframe\">\n",
       "  <thead>\n",
       "    <tr style=\"text-align: right;\">\n",
       "      <th></th>\n",
       "      <th>score-1</th>\n",
       "      <th>score-2</th>\n",
       "      <th>label</th>\n",
       "    </tr>\n",
       "  </thead>\n",
       "  <tbody>\n",
       "    <tr>\n",
       "      <th>0</th>\n",
       "      <td>34.623660</td>\n",
       "      <td>78.024693</td>\n",
       "      <td>0</td>\n",
       "    </tr>\n",
       "    <tr>\n",
       "      <th>1</th>\n",
       "      <td>30.286711</td>\n",
       "      <td>43.894998</td>\n",
       "      <td>0</td>\n",
       "    </tr>\n",
       "    <tr>\n",
       "      <th>2</th>\n",
       "      <td>35.847409</td>\n",
       "      <td>72.902198</td>\n",
       "      <td>0</td>\n",
       "    </tr>\n",
       "    <tr>\n",
       "      <th>3</th>\n",
       "      <td>60.182599</td>\n",
       "      <td>86.308552</td>\n",
       "      <td>1</td>\n",
       "    </tr>\n",
       "    <tr>\n",
       "      <th>4</th>\n",
       "      <td>79.032736</td>\n",
       "      <td>75.344376</td>\n",
       "      <td>1</td>\n",
       "    </tr>\n",
       "  </tbody>\n",
       "</table>\n",
       "</div>"
      ],
      "text/plain": [
       "     score-1    score-2  label\n",
       "0  34.623660  78.024693      0\n",
       "1  30.286711  43.894998      0\n",
       "2  35.847409  72.902198      0\n",
       "3  60.182599  86.308552      1\n",
       "4  79.032736  75.344376      1"
      ]
     },
     "execution_count": 2,
     "metadata": {},
     "output_type": "execute_result"
    }
   ],
   "source": [
    "data = pd.read_csv(\"../data/4_1_data.csv\")\n",
    "data.head()"
   ]
  },
  {
   "cell_type": "markdown",
   "metadata": {},
   "source": [
    "Y vemos las dimensiones del dataset con el que trabajaremos."
   ]
  },
  {
   "cell_type": "code",
   "execution_count": 3,
   "metadata": {},
   "outputs": [
    {
     "data": {
      "text/plain": [
       "(100, 3)"
      ]
     },
     "execution_count": 3,
     "metadata": {},
     "output_type": "execute_result"
    }
   ],
   "source": [
    "data.shape #Observamos que son 100 filas y 3 columnas."
   ]
  },
  {
   "cell_type": "markdown",
   "metadata": {},
   "source": [
    " Y los visualizamos en un gráfico de dispersión donde el cero representa no haber sido admitidos y el 1 haber sido admitidos por la universidad."
   ]
  },
  {
   "cell_type": "code",
   "execution_count": 4,
   "metadata": {},
   "outputs": [
    {
     "data": {
      "text/plain": [
       "Text(0.5, 1.0, 'Notas 1 y 2 en función del ser admitidos o no')"
      ]
     },
     "execution_count": 4,
     "metadata": {},
     "output_type": "execute_result"
    },
    {
     "data": {
      "image/png": "[encoded data removed]",
      "text/plain": [
       "<Figure size 432x288 with 1 Axes>"
      ]
     },
     "metadata": {
      "needs_background": "light"
     },
     "output_type": "display_data"
    }
   ],
   "source": [
    "sns.scatterplot(x=data.iloc[:,0],\n",
    "                y=data.iloc[:,1],\n",
    "                hue= data.iloc[:,2])\n",
    "plt.title('Notas 1 y 2 en función del ser admitidos o no')"
   ]
  },
  {
   "cell_type": "code",
   "execution_count": 5,
   "metadata": {},
   "outputs": [
    {
     "data": {
      "text/plain": [
       "((100, 2), (100,))"
      ]
     },
     "execution_count": 5,
     "metadata": {},
     "output_type": "execute_result"
    }
   ],
   "source": [
    "notas = data[['score-1', 'score-2']].values #Creamos por un lado nuestra matriz de notas \n",
    "resultado = data['label'].values #Y creamos el vector de valores binarios\n",
    "notas.shape,resultado.shape\n"
   ]
  },
  {
   "cell_type": "markdown",
   "metadata": {},
   "source": [
    "**1. Función Logistica**\n",
    "\n",
    "Las funciones del sigmoide son una parte importante de un modelo de regresión logística. La regresión logística es una modificación de la regresión lineal para la clasificación de dos clases, y convierte una o más entradas de valor real en una probabilidad, como la probabilidad de que un cliente compre un producto. La etapa final de un modelo de regresión logística se suele fijar en la función logística, que permite que el modelo produzca una probabilidad."
   ]
  },
  {
   "cell_type": "code",
   "execution_count": 6,
   "metadata": {},
   "outputs": [],
   "source": [
    "def sigmoide(z):    \n",
    "    return 1/ (1 + np.exp(-z))"
   ]
  },
  {
   "cell_type": "markdown",
   "metadata": {},
   "source": [
    "**2. Función de coste**\n",
    "\n",
    "En segundo lugar una definimos la función de coste asociada a una regresión logística o binaria, como es nuestro caso y adicionalmente establecemos el gradiente.\n",
    "\n",
    "La función de coste es la siguiente:\n",
    "\n",
    "![Imagen](https://carlosjuliopardoblog.files.wordpress.com/2017/12/41.png)\n",
    "\n",
    "Y el gradiente es obtenido derivando esta misma \n",
    "![Imagen1](https://carlosjuliopardoblog.files.wordpress.com/2017/12/51.png)\n",
    "\n",
    "La pendiente (o derivada) nos dice la inclinación o pendiente de la función de coste. Por lo tanto, para minimizar la función de costo, nos movemos en la dirección opuesta al gradiente. Los pasos a seguir son los siguientes.\n",
    "\n",
    "   1.Inicializar los pesos theta al azar.\n",
    "   2. Calcular los gradientes G de los parámetros de la función de coste. Esto se hace utilizando la diferenciación       parcial: G = ∂J(W)/∂W. El valor del gradiente G depende de las entradas, los valores actuales de los parámetros del     modelo y la función de coste. \n",
    "   3. Actualizamos los pesos por una cantidad proporcional a G, es decir, theta = theta - learning_rate*G\n",
    "   4. Repitimos hasta que el costo J(theta) deje de reducirse, o se cumpla algún otro criterio de terminación     predefinido."
   ]
  },
  {
   "cell_type": "code",
   "execution_count": 7,
   "metadata": {},
   "outputs": [],
   "source": [
    "def f_cost(theta, x, y):\n",
    "    m = len(y) #longitud de las observaciones\n",
    "    y_hat = sigmoide(np.dot(x , theta))# En clasificación logística la ecuación es la siguiente y=sigmoide*teta representada como h(thehta)\n",
    "    error = (-y * np.log(y_hat)) - ((1 - y) * np.log(1 - y_hat)) #Este es el error asociado que básicamente es la función de coste sin el término anterior al sumatorio\n",
    "    coste = 1 / m * sum(error)#función de coste\n",
    "    gradiente = 1 / m * np.dot(x.transpose(), (y_hat - y))#Derivamos la función de coste e introducimos la expresión mostrada anteriormente\n",
    "    return coste[0] , gradiente"
   ]
  },
  {
   "cell_type": "markdown",
   "metadata": {},
   "source": [
    "Para comprobar que la función de coste funciona, primero trabajaremos con los datos un poco."
   ]
  },
  {
   "cell_type": "code",
   "execution_count": 8,
   "metadata": {},
   "outputs": [],
   "source": [
    "media_notas = np.mean(notas, axis=0) #Medias de las notas\n",
    "std_notas = np.std(notas, axis=0) #Desviación estandar de las notas\n",
    "notas = (notas - media_notas) / std_notas #Hacemos una estandarización\n"
   ]
  },
  {
   "cell_type": "code",
   "execution_count": 9,
   "metadata": {},
   "outputs": [
    {
     "data": {
      "text/plain": [
       "(100, 2)"
      ]
     },
     "execution_count": 9,
     "metadata": {},
     "output_type": "execute_result"
    }
   ],
   "source": [
    "filas = notas.shape[0] #indicamos las filas\n",
    "columnas = notas.shape[1] #indicamos las columnas\n",
    "filas,columnas"
   ]
  },
  {
   "cell_type": "code",
   "execution_count": 10,
   "metadata": {},
   "outputs": [],
   "source": [
    "X = np.append(np.ones((filas, 1)), notas, axis=1) #Unimos a las notas una matriz de la longitud de 100 de todos unos \n",
    "y = resultado.reshape(filas, 1)#Ponemos en forma matricial nuestras variable binaria correspondiente a si han sido o no admitidos\n",
    "\n",
    "theta_init = np.zeros((columnas + 1, 1))#indicamos los parámetros iniciales de theta\n",
    "\n",
    "f_coste, gradiente = f_cost(theta_init, X, y) #realizamos una asignación múltiple donde el resultado de la función de coste es asignado a los parámetros que asignamos\n",
    "\n"
   ]
  },
  {
   "cell_type": "markdown",
   "metadata": {},
   "source": [
    "Una vez  trabajado todo un poco, hacemos una comprobación de las condiciones inicial"
   ]
  },
  {
   "cell_type": "code",
   "execution_count": 11,
   "metadata": {},
   "outputs": [
    {
     "name": "stdout",
     "output_type": "stream",
     "text": [
      "0.693147180559946\n",
      "[[-0.1       ]\n",
      " [-0.28122914]\n",
      " [-0.25098615]]\n"
     ]
    }
   ],
   "source": [
    "print( f_coste)#Comprobamos el valor de función de coste en las condiciones iniciales\n",
    "print(gradiente)#Gradiente en las condiciones iniciales"
   ]
  },
  {
   "cell_type": "markdown",
   "metadata": {},
   "source": [
    "Inicializamos la función correspondiente al descenso de gradiente que depende principalmente de nuestros valores de learning rate( longitud de nuestros pasos de avance) y iteraciones que en este caso será el parámetro que usamos de parada."
   ]
  },
  {
   "cell_type": "code",
   "execution_count": 12,
   "metadata": {},
   "outputs": [],
   "source": [
    "def descenso_gradiente(x, y, theta, lr_rate, iteraciones):\n",
    "    costes = [] #Creamos una lista vacía que guardará los valores de la función de gasto y su descenso\n",
    "    for i in range(iteraciones): #comenzamos a iterar\n",
    "        cost, gradiente = f_cost(theta, x, y)#hacemos la función de costo\n",
    "        theta = theta-(lr_rate * gradiente)#cambiamos la theta según iteramos, la nueva theta será la vieja menos el descenso del gradiente por el learning rate.\n",
    "        costes.append(cost)#añadimos el valor de la función de coste según descendemos\n",
    "    return theta, costes"
   ]
  },
  {
   "cell_type": "code",
   "execution_count": 15,
   "metadata": {},
   "outputs": [
    {
     "name": "stdout",
     "output_type": "stream",
     "text": [
      "[[1.63769371]\n",
      " [3.82069848]\n",
      " [3.55863308]]\n",
      "0.20369102731042485\n"
     ]
    }
   ],
   "source": [
    "#Decimos que nuestro learning rate es de 0.5 y 700 iteraciones y realizamos el descenso.\n",
    "\n",
    "theta, costes = descenso_gradiente(X, y, theta_init,0.5, 700)\n",
    "\n",
    "print( theta)#Theta al final de las iteraciones\n",
    "print( costes[-1])#Última función de coste"
   ]
  },
  {
   "cell_type": "code",
   "execution_count": 16,
   "metadata": {
    "scrolled": false
   },
   "outputs": [
    {
     "data": {
      "image/png": "[encoded data removed]",
      "text/plain": [
       "<Figure size 432x288 with 1 Axes>"
      ]
     },
     "metadata": {
      "needs_background": "light"
     },
     "output_type": "display_data"
    }
   ],
   "source": [
    "plt.plot(costes)\n",
    "plt.xlabel(\"Iteraciones\")\n",
    "plt.ylabel(\"$J(\\Theta)$\")\n",
    "plt.title(\"Valores de la función de costo sobre las iteraciones de descenso de gradiente\");"
   ]
  },
  {
   "cell_type": "markdown",
   "metadata": {},
   "source": [
    "Se observa como hay una convergencia de la función de coste alrededor de las **400 iteraciones.**"
   ]
  },
  {
   "cell_type": "markdown",
   "metadata": {},
   "source": [
    " ## References:"
   ]
  },
  {
   "cell_type": "markdown",
   "metadata": {},
   "source": [
    "https://deepai.org/machine-learning-glossary-and-terms/sigmoid-function\n",
    "\n",
    "https://carlosjuliopardoblog.wordpress.com/2017/12/31/regresion-logistica/\n",
    "\n",
    "https://github.com/lmntrixsid/Linear-and-Logistic-Regression-with-NumPy-and-Python/blob/master/Logistic_Regression_Completed.ipynb\n",
    "\n",
    "https://www.freecodecamp.org/news/understanding-gradient-descent-the-most-popular-ml-algorithm-a66c0d97307f/"
   ]
  },
  {
   "cell_type": "code",
   "execution_count": null,
   "metadata": {},
   "outputs": [],
   "source": []
  }
 ],
 "metadata": {
  "kernelspec": {
   "display_name": "gradiente_desc",
   "language": "python",
   "name": "gradiente_desc"
  },
  "language_info": {
   "codemirror_mode": {
    "name": "ipython",
    "version": 3
   },
   "file_extension": ".py",
   "mimetype": "text/x-python",
   "name": "python",
   "nbconvert_exporter": "python",
   "pygments_lexer": "ipython3",
   "version": "3.8.5"
  }
 },
 "nbformat": 4,
 "nbformat_minor": 4
}
